{
 "cells": [
  {
   "cell_type": "markdown",
   "metadata": {},
   "source": [
    "# Evaluate benchmark based on PMLB datasets"
   ]
  },
  {
   "cell_type": "markdown",
   "metadata": {},
   "source": [
    "## Read artifacts"
   ]
  },
  {
   "cell_type": "code",
   "execution_count": 17,
   "metadata": {},
   "outputs": [
    {
     "name": "stdout",
     "output_type": "stream",
     "text": [
      "procesed 7 artifacts with 980 results.\n"
     ]
    }
   ],
   "source": [
    "import os\n",
    "import zipfile\n",
    "import pandas as pd\n",
    "import io\n",
    "\n",
    "adir = '../wf_artifacts'\n",
    "tables = []\n",
    "artifacts_count = 0\n",
    "csv_count = 0\n",
    "for f in os.listdir(adir):\n",
    "    if f.endswith('.zip'):\n",
    "        path = os.path.join(adir, f)\n",
    "        \n",
    "        with zipfile.ZipFile(path, 'r') as zip_ref:\n",
    "            artifacts_count += 1\n",
    "            for csv in zip_ref.namelist():\n",
    "                if csv.endswith('.csv'):\n",
    "                    with zip_ref.open(csv) as csv_file:\n",
    "                        tables.append(pd.read_csv(io.TextIOWrapper(csv_file)))\n",
    "                        \n",
    "df_results = pd.concat(tables)\n",
    "df_results.reset_index(drop=True, inplace=True)\n",
    "df_results.to_csv('../results/pmlb_results.csv')\n",
    "print(f'procesed {artifacts_count} artifacts with {len(tables)} results.')"
   ]
  },
  {
   "cell_type": "code",
   "execution_count": 18,
   "metadata": {},
   "outputs": [
    {
     "data": {
      "text/html": [
       "<div>\n",
       "<style scoped>\n",
       "    .dataframe tbody tr th:only-of-type {\n",
       "        vertical-align: middle;\n",
       "    }\n",
       "\n",
       "    .dataframe tbody tr th {\n",
       "        vertical-align: top;\n",
       "    }\n",
       "\n",
       "    .dataframe thead th {\n",
       "        text-align: right;\n",
       "    }\n",
       "</style>\n",
       "<table border=\"1\" class=\"dataframe\">\n",
       "  <thead>\n",
       "    <tr style=\"text-align: right;\">\n",
       "      <th></th>\n",
       "      <th>dataset</th>\n",
       "      <th>estimator</th>\n",
       "      <th>time</th>\n",
       "      <th>model_string</th>\n",
       "      <th>random_seed</th>\n",
       "      <th>train_log_loss</th>\n",
       "      <th>train_roc_auc_score</th>\n",
       "      <th>train_accuracy_score</th>\n",
       "      <th>test_log_loss</th>\n",
       "      <th>test_roc_auc_score</th>\n",
       "      <th>test_accuracy_score</th>\n",
       "      <th>est_params</th>\n",
       "    </tr>\n",
       "  </thead>\n",
       "  <tbody>\n",
       "    <tr>\n",
       "      <th>0</th>\n",
       "      <td>adult</td>\n",
       "      <td>CatBoost</td>\n",
       "      <td>48.275820</td>\n",
       "      <td>NaN</td>\n",
       "      <td>57302</td>\n",
       "      <td>0.245185</td>\n",
       "      <td>0.945539</td>\n",
       "      <td>0.885701</td>\n",
       "      <td>0.270222</td>\n",
       "      <td>0.931962</td>\n",
       "      <td>0.879517</td>\n",
       "      <td>{\"learning_rate\": 0.027444514393716094, \"depth...</td>\n",
       "    </tr>\n",
       "    <tr>\n",
       "      <th>1</th>\n",
       "      <td>adult</td>\n",
       "      <td>CatBoost</td>\n",
       "      <td>14.672965</td>\n",
       "      <td>NaN</td>\n",
       "      <td>92067</td>\n",
       "      <td>0.247690</td>\n",
       "      <td>0.943395</td>\n",
       "      <td>0.886008</td>\n",
       "      <td>0.284197</td>\n",
       "      <td>0.927506</td>\n",
       "      <td>0.871635</td>\n",
       "      <td>{\"learning_rate\": 0.06489778555799723, \"depth\"...</td>\n",
       "    </tr>\n",
       "    <tr>\n",
       "      <th>2</th>\n",
       "      <td>adult</td>\n",
       "      <td>CatBoost</td>\n",
       "      <td>14.076289</td>\n",
       "      <td>NaN</td>\n",
       "      <td>33585</td>\n",
       "      <td>0.254010</td>\n",
       "      <td>0.940520</td>\n",
       "      <td>0.883858</td>\n",
       "      <td>0.274802</td>\n",
       "      <td>0.930852</td>\n",
       "      <td>0.875525</td>\n",
       "      <td>{\"learning_rate\": 0.04705587211479468, \"depth\"...</td>\n",
       "    </tr>\n",
       "    <tr>\n",
       "      <th>3</th>\n",
       "      <td>adult</td>\n",
       "      <td>CatBoost</td>\n",
       "      <td>14.730036</td>\n",
       "      <td>NaN</td>\n",
       "      <td>41729</td>\n",
       "      <td>0.254430</td>\n",
       "      <td>0.940453</td>\n",
       "      <td>0.882784</td>\n",
       "      <td>0.275142</td>\n",
       "      <td>0.928517</td>\n",
       "      <td>0.876651</td>\n",
       "      <td>{\"learning_rate\": 0.03821966920492691, \"depth\"...</td>\n",
       "    </tr>\n",
       "    <tr>\n",
       "      <th>4</th>\n",
       "      <td>adult</td>\n",
       "      <td>CatBoost</td>\n",
       "      <td>19.638265</td>\n",
       "      <td>NaN</td>\n",
       "      <td>66580</td>\n",
       "      <td>0.246570</td>\n",
       "      <td>0.944759</td>\n",
       "      <td>0.886546</td>\n",
       "      <td>0.269056</td>\n",
       "      <td>0.932059</td>\n",
       "      <td>0.878186</td>\n",
       "      <td>{\"learning_rate\": 0.03894519547731018, \"depth\"...</td>\n",
       "    </tr>\n",
       "  </tbody>\n",
       "</table>\n",
       "</div>"
      ],
      "text/plain": [
       "  dataset estimator       time  model_string  random_seed  train_log_loss  \\\n",
       "0   adult  CatBoost  48.275820           NaN        57302        0.245185   \n",
       "1   adult  CatBoost  14.672965           NaN        92067        0.247690   \n",
       "2   adult  CatBoost  14.076289           NaN        33585        0.254010   \n",
       "3   adult  CatBoost  14.730036           NaN        41729        0.254430   \n",
       "4   adult  CatBoost  19.638265           NaN        66580        0.246570   \n",
       "\n",
       "   train_roc_auc_score  train_accuracy_score  test_log_loss  \\\n",
       "0             0.945539              0.885701       0.270222   \n",
       "1             0.943395              0.886008       0.284197   \n",
       "2             0.940520              0.883858       0.274802   \n",
       "3             0.940453              0.882784       0.275142   \n",
       "4             0.944759              0.886546       0.269056   \n",
       "\n",
       "   test_roc_auc_score  test_accuracy_score  \\\n",
       "0            0.931962             0.879517   \n",
       "1            0.927506             0.871635   \n",
       "2            0.930852             0.875525   \n",
       "3            0.928517             0.876651   \n",
       "4            0.932059             0.878186   \n",
       "\n",
       "                                          est_params  \n",
       "0  {\"learning_rate\": 0.027444514393716094, \"depth...  \n",
       "1  {\"learning_rate\": 0.06489778555799723, \"depth\"...  \n",
       "2  {\"learning_rate\": 0.04705587211479468, \"depth\"...  \n",
       "3  {\"learning_rate\": 0.03821966920492691, \"depth\"...  \n",
       "4  {\"learning_rate\": 0.03894519547731018, \"depth\"...  "
      ]
     },
     "execution_count": 18,
     "metadata": {},
     "output_type": "execute_result"
    }
   ],
   "source": [
    "df_results.head()"
   ]
  },
  {
   "cell_type": "code",
   "execution_count": 19,
   "metadata": {},
   "outputs": [
    {
     "data": {
      "text/plain": [
       "array(['CatBoost', 'DecisionTree', 'KNeighbors', 'LGBM',\n",
       "       'LogisticRegression', 'RandomForest', 'XGB'], dtype=object)"
      ]
     },
     "execution_count": 19,
     "metadata": {},
     "output_type": "execute_result"
    }
   ],
   "source": [
    "estimators = df_results['estimator'].unique()\n",
    "estimators"
   ]
  },
  {
   "cell_type": "code",
   "execution_count": 20,
   "metadata": {},
   "outputs": [
    {
     "name": "stdout",
     "output_type": "stream",
     "text": [
      "CatBoost 0.2799517491768882 0.8655151257668129 0.8554791452441571\n",
      "DecisionTree 0.40246649514397026 0.7567860731215051 0.7676632244629715\n",
      "KNeighbors 0.4253110663912993 0.7806517650517587 0.7766611497479942\n",
      "LGBM 0.29747967685378846 0.8535790478177493 0.8442971565457359\n",
      "LogisticRegression 0.4050428244224626 0.787851548966885 0.7953859643589313\n",
      "RandomForest 0.33643924767540445 0.8342741796636507 0.8248544960519376\n",
      "XGB 0.29022756115696335 0.8571114472113562 0.8471373743469862\n"
     ]
    }
   ],
   "source": [
    "for est in estimators:\n",
    "    est_results = df_results[df_results['estimator'] == est]\n",
    "    test_log_loss = est_results['test_log_loss'].mean()\n",
    "    test_roc_auc_score = est_results['test_roc_auc_score'].mean()\n",
    "    test_accuracy_score = est_results['test_accuracy_score'].mean()\n",
    "    print(f'{est} {test_log_loss} {test_roc_auc_score} {test_accuracy_score}')"
   ]
  },
  {
   "cell_type": "markdown",
   "metadata": {},
   "source": [
    "## TODO: Remove this \n",
    "Results from not tuned estimators"
   ]
  },
  {
   "cell_type": "code",
   "execution_count": 21,
   "metadata": {},
   "outputs": [
    {
     "data": {
      "text/plain": [
       "array(['RILS-ROLS', 'HROCH', 'CatBoost', 'GradientBoosting', 'LGBM',\n",
       "       'XGB', 'DecisionTree', 'LogisticRegression', 'KNeighbors',\n",
       "       'RandomForest', 'SVC'], dtype=object)"
      ]
     },
     "execution_count": 21,
     "metadata": {},
     "output_type": "execute_result"
    }
   ],
   "source": [
    "df_resuts_not_tuned = pd.read_csv('../results/pmlb_results_not_tuned.csv')\n",
    "not_tuned_estimators = df_resuts_not_tuned['estimator'].unique()\n",
    "not_tuned_estimators"
   ]
  },
  {
   "cell_type": "code",
   "execution_count": 23,
   "metadata": {},
   "outputs": [
    {
     "name": "stdout",
     "output_type": "stream",
     "text": [
      "RILS-ROLS 0.5749358822023897 0.7883113606820921 0.8504784648330119\n",
      "HROCH 0.29211639416661506 0.8798953087212932 0.8637305122727116\n",
      "CatBoost 0.30405095366919416 0.8589860391296925 0.8473960362575694\n",
      "GradientBoosting 0.35367304251436066 0.8056949805403602 0.8018813394469697\n",
      "LGBM 0.32189060740532 0.8532837855967486 0.8422880513038286\n",
      "XGB 0.3703251985011235 0.8436586151985429 0.8386334213627732\n",
      "DecisionTree 7.431414500519904 0.7480900426762037 0.7904900581073104\n",
      "LogisticRegression 0.4700994127252017 0.775308712498848 0.7909953147052841\n",
      "KNeighbors 1.3434050552780068 0.7432619332829737 0.763191336086232\n",
      "RandomForest 0.3778169318182072 0.8290807953615884 0.8188584612106503\n",
      "SVC 0.3861992731830962 0.7651071056760607 0.7716504647502572\n"
     ]
    }
   ],
   "source": [
    "for est in not_tuned_estimators:\n",
    "    est_results = df_resuts_not_tuned[df_resuts_not_tuned['estimator'] == est]\n",
    "    test_log_loss = est_results['test_log_loss'].mean()\n",
    "    test_roc_auc_score = est_results['test_roc_auc_score'].mean()\n",
    "    test_accuracy_score = est_results['test_accuracy_score'].mean()\n",
    "    print(f'{est} {test_log_loss} {test_roc_auc_score} {test_accuracy_score}')"
   ]
  },
  {
   "cell_type": "markdown",
   "metadata": {},
   "source": [
    "## Evaluate\n",
    "TODO: implement this"
   ]
  }
 ],
 "metadata": {
  "kernelspec": {
   "display_name": "Python 3",
   "language": "python",
   "name": "python3"
  },
  "language_info": {
   "codemirror_mode": {
    "name": "ipython",
    "version": 3
   },
   "file_extension": ".py",
   "mimetype": "text/x-python",
   "name": "python",
   "nbconvert_exporter": "python",
   "pygments_lexer": "ipython3",
   "version": "3.10.11"
  }
 },
 "nbformat": 4,
 "nbformat_minor": 2
}
